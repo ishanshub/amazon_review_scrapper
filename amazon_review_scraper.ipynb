{
 "cells": [
  {
   "cell_type": "code",
   "execution_count": 2,
   "id": "e8426976",
   "metadata": {},
   "outputs": [],
   "source": [
    "from bs4 import BeautifulSoup\n",
    "import requests\n",
    "import pandas as pd\n",
    "import re"
   ]
  },
  {
   "cell_type": "code",
   "execution_count": 3,
   "id": "3d680ace",
   "metadata": {},
   "outputs": [],
   "source": [
    "def parse_webpage(link, total_pages):\n",
    "    i=1\n",
    "    reviews=[]\n",
    "    stars=[]\n",
    "    \n",
    "    for i in range(total_pages):\n",
    "        r=requests.get(link + \"&pageNumber=\" + str(i))\n",
    "        soup = BeautifulSoup(r.text, \"html.parser\")\n",
    "        \n",
    "        j=1\n",
    "        results_rev = soup.find_all(\"span\", {'class':\"a-size-base review-text review-text-content\"})\n",
    "        temp_reviews = [review.text for review in results_rev]\n",
    "        for j in range(len(temp_reviews)):\n",
    "            reviews.append(temp_reviews[j])\n",
    "            j+=1\n",
    "        \n",
    "        \n",
    "        k=1\n",
    "        regex=re.compile('a-icon a-icon-star a-star-[12345] review-rating')\n",
    "        results_stars = soup.find_all(\"i\", {'class':regex})\n",
    "        temp_stars = [star.text for star in results_stars]\n",
    "        for k in range(len(temp_stars)):\n",
    "            stars.append(temp_stars[k])\n",
    "            k+=1\n",
    "  \n",
    "        i+=1\n",
    "        \n",
    "    return reviews, stars"
   ]
  },
  {
   "cell_type": "code",
   "execution_count": 4,
   "id": "260098e9",
   "metadata": {},
   "outputs": [],
   "source": [
    "def preprocess_data(df, num_col, str_col):\n",
    "    df[num_col]= df[num_col].apply(lambda x : x.split(\" \")[0])\n",
    "    df[num_col]= pd.to_numeric(df[num_col], errors='coerce')\n",
    "    df[str_col]= df[str_col].apply(lambda x : x.replace(\"\\n\", \"\"))\n",
    "    "
   ]
  },
  {
   "cell_type": "code",
   "execution_count": 5,
   "id": "45285ace",
   "metadata": {},
   "outputs": [],
   "source": [
    "link=\"https://www.amazon.in/Power-Your-Subconscious-Mind-Success/product-reviews/8172345666/ref=cm_cr_dp_d_show_all_btm?ie=UTF8&reviewerType=all_reviews\""
   ]
  },
  {
   "cell_type": "code",
   "execution_count": 10,
   "id": "67cb0b32",
   "metadata": {},
   "outputs": [],
   "source": [
    "reviews, stars = parse_webpage(link,300)"
   ]
  },
  {
   "cell_type": "code",
   "execution_count": 11,
   "id": "a35f2e5b",
   "metadata": {},
   "outputs": [
    {
     "data": {
      "text/html": [
       "<div>\n",
       "<style scoped>\n",
       "    .dataframe tbody tr th:only-of-type {\n",
       "        vertical-align: middle;\n",
       "    }\n",
       "\n",
       "    .dataframe tbody tr th {\n",
       "        vertical-align: top;\n",
       "    }\n",
       "\n",
       "    .dataframe thead th {\n",
       "        text-align: right;\n",
       "    }\n",
       "</style>\n",
       "<table border=\"1\" class=\"dataframe\">\n",
       "  <thead>\n",
       "    <tr style=\"text-align: right;\">\n",
       "      <th></th>\n",
       "      <th>reviews</th>\n",
       "      <th>sentiment</th>\n",
       "    </tr>\n",
       "  </thead>\n",
       "  <tbody>\n",
       "    <tr>\n",
       "      <th>0</th>\n",
       "      <td>\\nLet me tell you about what the book says: Yo...</td>\n",
       "      <td>4.0 out of 5 stars</td>\n",
       "    </tr>\n",
       "    <tr>\n",
       "      <th>1</th>\n",
       "      <td>\\nSPOILERS AHEAD PEOPLE!!Murphy's idea is very...</td>\n",
       "      <td>1.0 out of 5 stars</td>\n",
       "    </tr>\n",
       "    <tr>\n",
       "      <th>2</th>\n",
       "      <td>\\nVery useful book...good for maintaining a ca...</td>\n",
       "      <td>1.0 out of 5 stars</td>\n",
       "    </tr>\n",
       "    <tr>\n",
       "      <th>3</th>\n",
       "      <td>\\nI have no idea why people buy this one. I bo...</td>\n",
       "      <td>4.0 out of 5 stars</td>\n",
       "    </tr>\n",
       "    <tr>\n",
       "      <th>4</th>\n",
       "      <td>\\nThis is my first book, I'm not very fond of ...</td>\n",
       "      <td>5.0 out of 5 stars</td>\n",
       "    </tr>\n",
       "    <tr>\n",
       "      <th>...</th>\n",
       "      <td>...</td>\n",
       "      <td>...</td>\n",
       "    </tr>\n",
       "    <tr>\n",
       "      <th>2015</th>\n",
       "      <td>\\nexcellent book\\n</td>\n",
       "      <td>5.0 out of 5 stars</td>\n",
       "    </tr>\n",
       "    <tr>\n",
       "      <th>2016</th>\n",
       "      <td>\\nGood Book\\n</td>\n",
       "      <td>4.0 out of 5 stars</td>\n",
       "    </tr>\n",
       "    <tr>\n",
       "      <th>2017</th>\n",
       "      <td>\\nIn good condition\\n</td>\n",
       "      <td>1.0 out of 5 stars</td>\n",
       "    </tr>\n",
       "    <tr>\n",
       "      <th>2018</th>\n",
       "      <td>\\nA must read book\\n</td>\n",
       "      <td>5.0 out of 5 stars</td>\n",
       "    </tr>\n",
       "    <tr>\n",
       "      <th>2019</th>\n",
       "      <td>\\nExcellent book regarding the most powerful a...</td>\n",
       "      <td>5.0 out of 5 stars</td>\n",
       "    </tr>\n",
       "  </tbody>\n",
       "</table>\n",
       "<p>2020 rows × 2 columns</p>\n",
       "</div>"
      ],
      "text/plain": [
       "                                                reviews           sentiment\n",
       "0     \\nLet me tell you about what the book says: Yo...  4.0 out of 5 stars\n",
       "1     \\nSPOILERS AHEAD PEOPLE!!Murphy's idea is very...  1.0 out of 5 stars\n",
       "2     \\nVery useful book...good for maintaining a ca...  1.0 out of 5 stars\n",
       "3     \\nI have no idea why people buy this one. I bo...  4.0 out of 5 stars\n",
       "4     \\nThis is my first book, I'm not very fond of ...  5.0 out of 5 stars\n",
       "...                                                 ...                 ...\n",
       "2015                                 \\nexcellent book\\n  5.0 out of 5 stars\n",
       "2016                                      \\nGood Book\\n  4.0 out of 5 stars\n",
       "2017                              \\nIn good condition\\n  1.0 out of 5 stars\n",
       "2018                               \\nA must read book\\n  5.0 out of 5 stars\n",
       "2019  \\nExcellent book regarding the most powerful a...  5.0 out of 5 stars\n",
       "\n",
       "[2020 rows x 2 columns]"
      ]
     },
     "execution_count": 11,
     "metadata": {},
     "output_type": "execute_result"
    }
   ],
   "source": [
    "df=pd.DataFrame(list(zip(reviews,stars)), columns=[\"reviews\", \"sentiment\"])\n",
    "df"
   ]
  },
  {
   "cell_type": "code",
   "execution_count": 12,
   "id": "e89e4d3b",
   "metadata": {},
   "outputs": [
    {
     "data": {
      "text/html": [
       "<div>\n",
       "<style scoped>\n",
       "    .dataframe tbody tr th:only-of-type {\n",
       "        vertical-align: middle;\n",
       "    }\n",
       "\n",
       "    .dataframe tbody tr th {\n",
       "        vertical-align: top;\n",
       "    }\n",
       "\n",
       "    .dataframe thead th {\n",
       "        text-align: right;\n",
       "    }\n",
       "</style>\n",
       "<table border=\"1\" class=\"dataframe\">\n",
       "  <thead>\n",
       "    <tr style=\"text-align: right;\">\n",
       "      <th></th>\n",
       "      <th>reviews</th>\n",
       "      <th>sentiment</th>\n",
       "    </tr>\n",
       "  </thead>\n",
       "  <tbody>\n",
       "    <tr>\n",
       "      <th>0</th>\n",
       "      <td>Let me tell you about what the book says: Your...</td>\n",
       "      <td>4.0</td>\n",
       "    </tr>\n",
       "    <tr>\n",
       "      <th>1</th>\n",
       "      <td>SPOILERS AHEAD PEOPLE!!Murphy's idea is very s...</td>\n",
       "      <td>1.0</td>\n",
       "    </tr>\n",
       "    <tr>\n",
       "      <th>2</th>\n",
       "      <td>Very useful book...good for maintaining a calm...</td>\n",
       "      <td>1.0</td>\n",
       "    </tr>\n",
       "    <tr>\n",
       "      <th>3</th>\n",
       "      <td>I have no idea why people buy this one. I boug...</td>\n",
       "      <td>4.0</td>\n",
       "    </tr>\n",
       "    <tr>\n",
       "      <th>4</th>\n",
       "      <td>This is my first book, I'm not very fond of re...</td>\n",
       "      <td>5.0</td>\n",
       "    </tr>\n",
       "  </tbody>\n",
       "</table>\n",
       "</div>"
      ],
      "text/plain": [
       "                                             reviews  sentiment\n",
       "0  Let me tell you about what the book says: Your...        4.0\n",
       "1  SPOILERS AHEAD PEOPLE!!Murphy's idea is very s...        1.0\n",
       "2  Very useful book...good for maintaining a calm...        1.0\n",
       "3  I have no idea why people buy this one. I boug...        4.0\n",
       "4  This is my first book, I'm not very fond of re...        5.0"
      ]
     },
     "execution_count": 12,
     "metadata": {},
     "output_type": "execute_result"
    }
   ],
   "source": [
    "col_1='sentiment'\n",
    "col_2='reviews'\n",
    "\n",
    "preprocess_data(df, col_1, col_2)\n",
    "df.head()"
   ]
  },
  {
   "cell_type": "code",
   "execution_count": 13,
   "id": "0235b469",
   "metadata": {},
   "outputs": [],
   "source": [
    "df.to_csv('sentiment_data.csv',index=False)"
   ]
  },
  {
   "cell_type": "code",
   "execution_count": null,
   "id": "30870747",
   "metadata": {},
   "outputs": [],
   "source": []
  }
 ],
 "metadata": {
  "kernelspec": {
   "display_name": "torch",
   "language": "python",
   "name": "torch"
  },
  "language_info": {
   "codemirror_mode": {
    "name": "ipython",
    "version": 3
   },
   "file_extension": ".py",
   "mimetype": "text/x-python",
   "name": "python",
   "nbconvert_exporter": "python",
   "pygments_lexer": "ipython3",
   "version": "3.10.4"
  }
 },
 "nbformat": 4,
 "nbformat_minor": 5
}
